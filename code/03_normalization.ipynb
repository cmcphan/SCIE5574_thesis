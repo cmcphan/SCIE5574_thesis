{
 "cells": [
  {
   "cell_type": "markdown",
   "id": "da0bfdf4-97e7-4953-9436-8108b8eddffc",
   "metadata": {},
   "source": [
    "# Normalization\n",
    "\n",
    "Downsample counts in each cell to a standardized size to mitigate effects due to library size.\\\n",
    "Normalize counts in 2 different ways - \n",
    "1. Shifted logarithm, for differential expression analysis\n",
    "2. Binarization, for clustering"
   ]
  },
  {
   "cell_type": "code",
   "execution_count": 1,
   "id": "e79c5545-598c-4182-a84a-d20aa04705b1",
   "metadata": {},
   "outputs": [],
   "source": [
    "import anndata as ad\n",
    "import scanpy as sc\n",
    "import numpy as np\n",
    "import pandas as pd\n",
    "import matplotlib.pyplot as plt\n",
    "import seaborn as sns\n",
    "%matplotlib inline\n",
    "from matplotlib.pyplot import rc_context"
   ]
  },
  {
   "cell_type": "code",
   "execution_count": 2,
   "id": "8c546351-6851-4347-a33b-8d08a0bd0cb6",
   "metadata": {},
   "outputs": [
    {
     "name": "stdout",
     "output_type": "stream",
     "text": [
      "AnnData object with n_obs × n_vars = 154748 × 26747\n",
      "    obs: 'batch', 'RL#', 'age', 'chem', 'concat_id', 'numerical_age', 'stage_id', 'Sex', 'Race', 'PMI', 'Brain Regions*', 'Cause of Death', 'ICD-10 Code', 'ICD-10 category', 'Oxygen/No Oxygen', 'Date-of-Collection', 'Collection_year', 'Library Prep Date', 'Library Prep Lot', 'n_genes_by_counts', 'log1p_n_genes_by_counts', 'total_counts', 'log1p_total_counts', 'doublet_score', 'log10_gene_counts', 'log10_UMI_counts', 'percent_mito', 'percent_ribo', 'n_counts', 'leiden', 'mat/dev', 'cell_type', 'major_clust', 'sub_clust', 'combined-leiden', 'Astro_GFAP_dev-traj', 'Astro_SLC1A2_dev-traj', 'L2_CUX2_LAMP5_dev-traj', 'L3_CUX2_PRSS12_dev-traj', 'L4_RORB_LRRK1_dev-traj', 'L4_RORB_MET_dev-traj', 'L4_RORB_MME_dev-traj', 'L5-6_THEMIS_CNR1_dev-traj', 'L5-6_THEMIS_NTNG2_dev-traj', 'L5-6_TLE4_HTR2C_dev-traj', 'L5-6_TLE4_SCUBE1_dev-traj', 'L5-6_TLE4_SORCS1_dev-traj', 'Micro_dev-traj', 'OPC_dev-traj', 'OPC_MBP_dev-traj', 'Oligo_dev-traj', 'Vas_CLDN5_dev-traj', 'Vas_PDGFRB_dev-traj', 'Vas_TBX18_dev-traj', 'CCK_RELN_dev-traj', 'CCK_SORCS1_dev-traj', 'CCK_SYT6_dev-traj', 'ID2_CSMD1_dev-traj', 'LAMP5_CCK_dev-traj', 'LAMP5_NDNF_dev-traj', 'LAMP5_NOS1_dev-traj', 'PV_SCUBE3_dev-traj', 'PV_SST_dev-traj', 'PV_SULF1_dev-traj', 'PV_WFDC2_dev-traj', 'SST_ADGRG6_dev-traj', 'SST_B3GAT2_dev-traj', 'SST_BRINP3_dev-traj', 'SST_CALB1_dev-traj', 'SST_NPY_dev-traj', 'SST_STK32A_dev-traj', 'SST_TH_dev-traj', 'VIP_ABI3BP_dev-traj', 'VIP_ADAMTSL1_dev-traj', 'VIP_CHRM2_dev-traj', 'VIP_CRH_dev-traj', 'VIP_DPP6_dev-traj', 'VIP_HS3ST3A1_dev-traj', 'VIP_KIRREL3_dev-traj', 'VIP_PCDH20_dev-traj', 'mj_dev_traj_L4_RORB', 'mj_dev_traj_L2-3_CUX2', 'mj_dev_traj_SST', 'mj_dev_traj_Astro', 'mj_dev_traj_L5-6_TLE4', 'mj_dev_traj_L5-6_THEMIS', 'mj_dev_traj_VIP', 'mj_dev_traj_OPC', 'mj_dev_traj_PV', 'mj_dev_traj_PV_SCUBE3', 'mj_dev_traj_ID2', 'mj_dev_traj_Oligo', 'mj_dev_traj_LAMP5_NOS1', 'mj_dev_traj_Micro', 'mj_dev_traj_Vas', 'mj_dev_traj_Poor-Quality'\n",
      "    var: 'gene_ids', 'feature_types', 'non-unique_names', 'n_cells_by_counts', 'mean_counts', 'log1p_mean_counts', 'pct_dropout_by_counts', 'total_counts', 'log1p_total_counts', 'n_counts', 'n_cells', 'highly_variable', 'means', 'dispersions', 'dispersions_norm'\n",
      "    uns: 'Astro_GFAP_dev-traj_colors', 'Astro_SLC1A2_dev-traj_colors', 'CCK_RELN_dev-traj_colors', 'CCK_SORCS1_dev-traj_colors', 'CCK_SYT6_dev-traj_colors', 'ID2_CSMD1_dev-traj_colors', 'L2_CUX2_LAMP5_dev-traj_colors', 'L3_CUX2_PRSS12_dev-traj_colors', 'L4_RORB_LRRK1_dev-traj_colors', 'L4_RORB_MET_dev-traj_colors', 'L4_RORB_MME_dev-traj_colors', 'L5-6_THEMIS_CNR1_dev-traj_colors', 'L5-6_THEMIS_NTNG2_dev-traj_colors', 'L5-6_TLE4_HTR2C_dev-traj_colors', 'L5-6_TLE4_SCUBE1_dev-traj_colors', 'L5-6_TLE4_SORCS1_dev-traj_colors', 'LAMP5_CCK_dev-traj_colors', 'LAMP5_NDNF_dev-traj_colors', 'LAMP5_NOS1_dev-traj_colors', 'Micro_dev-traj_colors', 'OPC_MBP_dev-traj_colors', 'OPC_dev-traj_colors', 'Oligo_dev-traj_colors', 'PV_SCUBE3_dev-traj_colors', 'PV_SST_dev-traj_colors', 'PV_SULF1_dev-traj_colors', 'PV_WFDC2_dev-traj_colors', 'SST_ADGRG6_dev-traj_colors', 'SST_B3GAT2_dev-traj_colors', 'SST_BRINP3_dev-traj_colors', 'SST_CALB1_dev-traj_colors', 'SST_NPY_dev-traj_colors', 'SST_STK32A_dev-traj_colors', 'SST_TH_dev-traj_colors', 'VIP_ABI3BP_dev-traj_colors', 'VIP_ADAMTSL1_dev-traj_colors', 'VIP_CHRM2_dev-traj_colors', 'VIP_CRH_dev-traj_colors', 'VIP_DPP6_dev-traj_colors', 'VIP_HS3ST3A1_dev-traj_colors', 'VIP_KIRREL3_dev-traj_colors', 'VIP_PCDH20_dev-traj_colors', 'Vas_CLDN5_dev-traj_colors', 'Vas_PDGFRB_dev-traj_colors', 'Vas_TBX18_dev-traj_colors', 'age_order', 'batch_colors', 'batch_colors_dict', 'batch_order', 'cell_type_colors', 'combined-leiden_colors', 'gaba_clust_data', 'hvg', 'major_clust_colors', 'major_clust_colors_dict', 'major_clust_plot_order', 'mj_dev_traj_Astro_colors', 'mj_dev_traj_ID2_colors', 'mj_dev_traj_L2-3_CUX2_colors', 'mj_dev_traj_L4_RORB_colors', 'mj_dev_traj_L5-6_THEMIS_colors', 'mj_dev_traj_L5-6_TLE4_colors', 'mj_dev_traj_LAMP5_NOS1_colors', 'mj_dev_traj_Micro_colors', 'mj_dev_traj_OPC_colors', 'mj_dev_traj_Oligo_colors', 'mj_dev_traj_PV_SCUBE3_colors', 'mj_dev_traj_PV_colors', 'mj_dev_traj_Poor-Quality_colors', 'mj_dev_traj_SST_colors', 'mj_dev_traj_VIP_colors', 'mj_dev_traj_Vas_colors', 'stage_colors_dict', 'stage_id_colors', 'stage_order', 'sub_clust_colors', 'wt_clust_data'\n",
      "    obsm: 'X_pca', 'X_umap'\n",
      "    layers: 'ds_norm_cts'\n",
      "    obsp: 'connectivities', 'distances'\n",
      "AnnData object with n_obs × n_vars = 172361 × 27260\n",
      "    obs: 'orig_cluster', 'orig_sub_cluster', 'broad_lineage', 'cell_type', 'dev_state', 'subtype', 'precisest_label', 'species', 'Tissue', 'TissueID', 'batch', 'Capture.System', 'UMAP1', 'UMAP2', 'Stage', 'stage.ord', 'Stage_exact', 'size_factor', 'sex', 'age', 'fragment', 'rqn_cytoplasm', 'nuclei_preparation', 'chromium_version', 'numerical_age', 'n_genes_by_counts', 'log1p_n_genes_by_counts', 'total_counts', 'log1p_total_counts', 'log10_gene_counts', 'log10_UMI_counts', 'percent_mito'\n",
      "    var: 'ensembl_gene_id', 'gene_symbol', 'n_cells', 'n_cells_by_counts', 'mean_counts', 'log1p_mean_counts', 'pct_dropout_by_counts', 'total_counts', 'log1p_total_counts'\n",
      "    uns: 'Tissue_colors', 'batch_colors', 'batch_colors_dict', 'batch_order', 'fragment_colors', 'nuclei_preparation_colors'\n",
      "AnnData object with n_obs × n_vars = 111762 × 20424\n",
      "    obs: 'orig_cluster', 'orig_sub_cluster', 'broad_lineage', 'cell_type', 'dev_state', 'subtype', 'precisest_label', 'species', 'Tissue', 'TissueID', 'batch', 'Capture.System', 'UMAP1', 'UMAP2', 'Stage', 'stage.ord', 'size_factor', 'sex', 'age', 'fragment', 'rqn_cytoplasm', 'nuclei_preparation', 'chromium_version', 'numerical_age', 'n_genes_by_counts', 'log1p_n_genes_by_counts', 'total_counts', 'log1p_total_counts', 'log10_gene_counts', 'log10_UMI_counts', 'percent_mito'\n",
      "    var: 'ensembl_gene_id', 'gene_symbol', 'n_cells', 'n_cells_by_counts', 'mean_counts', 'log1p_mean_counts', 'pct_dropout_by_counts', 'total_counts', 'log1p_total_counts'\n",
      "    uns: 'batch_colors', 'batch_colors_dict', 'batch_order', 'fragment_colors', 'nuclei_preparation_colors'\n",
      "AnnData object with n_obs × n_vars = 95041 × 28773\n",
      "    obs: 'orig_cluster', 'orig_sub_cluster', 'broad_lineage', 'cell_type', 'dev_state', 'subtype', 'precisest_label', 'species', 'Tissue', 'TissueID', 'batch', 'Capture.System', 'UMAP1', 'UMAP2', 'Stage', 'stage.ord', 'size_factor', 'sex', 'age', 'fragment', 'rqn_cytoplasm', 'nuclei_preparation', 'chromium_version', 'numerical_age', 'n_genes_by_counts', 'log1p_n_genes_by_counts', 'total_counts', 'log1p_total_counts', 'log10_gene_counts', 'log10_UMI_counts', 'percent_mito'\n",
      "    var: 'ensembl_gene_id', 'gene_symbol', 'n_cells', 'n_cells_by_counts', 'mean_counts', 'log1p_mean_counts', 'pct_dropout_by_counts', 'total_counts', 'log1p_total_counts'\n",
      "    uns: 'batch_colors', 'batch_colors_dict', 'batch_order', 'fragment_colors', 'nuclei_preparation_colors'\n"
     ]
    }
   ],
   "source": [
    "adata_list = []\n",
    "adata_list.append(ad.read_h5ad('/group/ll005/cmcphan/herring_data/Processed_data_RNA-all_full-counts-and-downsampled-CPM.h5ad'))\n",
    "adata_list.append(ad.read_h5ad('/group/ll005/cmcphan/sepp_data/sepp_human.h5ad'))\n",
    "adata_list.append(ad.read_h5ad('/group/ll005/cmcphan/sepp_data/sepp_mouse.h5ad'))\n",
    "adata_list.append(ad.read_h5ad('/group/ll005/cmcphan/sepp_data/sepp_opossum.h5ad'))\n",
    "\n",
    "for a in adata_list:\n",
    "    print(a)"
   ]
  },
  {
   "cell_type": "code",
   "execution_count": 3,
   "id": "483fdc22-0334-4f97-9cbc-a3b38df57834",
   "metadata": {},
   "outputs": [],
   "source": [
    "# Ensure QC metrics are up to date after filtering\n",
    "sc.pp.calculate_qc_metrics(adata_list[1], percent_top=None, inplace=True)\n",
    "sc.pp.calculate_qc_metrics(adata_list[2], percent_top=None, inplace=True)\n",
    "sc.pp.calculate_qc_metrics(adata_list[3], percent_top=None, inplace=True)"
   ]
  },
  {
   "cell_type": "code",
   "execution_count": 4,
   "id": "77814cfb-554e-4c05-bcdf-efa02e77073e",
   "metadata": {},
   "outputs": [
    {
     "name": "stdout",
     "output_type": "stream",
     "text": [
      "0\n",
      "15159\n",
      "46109\n",
      "6608\n"
     ]
    }
   ],
   "source": [
    "for a in adata_list:\n",
    "    low_counts = a.obs['total_counts'] < 1000\n",
    "    print(sum(low_counts))"
   ]
  },
  {
   "cell_type": "markdown",
   "id": "4997690a-5500-4618-b874-57ac2aa8ca0b",
   "metadata": {},
   "source": [
    "Herring data is downsampled to 1000 counts per cell. To ensure parity, downsample counts in other datasets to 1000 per cell as well. As above, there are cells with less than 1000 counts in the other datasets, so these will be removed prior as low library size cells. Check removal counts per batch to ensure there are no significant biases."
   ]
  },
  {
   "cell_type": "code",
   "execution_count": 5,
   "id": "78cbad3a-15a0-45b4-a325-dbd8baec2338",
   "metadata": {},
   "outputs": [
    {
     "name": "stdout",
     "output_type": "stream",
     "text": [
      "Number of removed nuclei per sample:\n",
      "batch\n",
      "SN080    4438\n",
      "SN060    2468\n",
      "SN170    1436\n",
      "SN062    1390\n",
      "SN023    1305\n",
      "SN100    1305\n",
      "SN095     627\n",
      "SN096     446\n",
      "SN061     394\n",
      "SN097     392\n",
      "SN026     391\n",
      "SN035     186\n",
      "SN030     144\n",
      "SN021     139\n",
      "SN029      83\n",
      "SN003      14\n",
      "SN022       1\n",
      "Total removed =  15159\n",
      "Number of removed nuclei per sample:\n",
      "batch\n",
      "SN126    3534\n",
      "SN102    3279\n",
      "SN015    2873\n",
      "SN127    2763\n",
      "SN099    2736\n",
      "SN014    2593\n",
      "SN101    2588\n",
      "SN025    2566\n",
      "SN128    2535\n",
      "SN039    2512\n",
      "SN013    2467\n",
      "SN063    2456\n",
      "SN032    1960\n",
      "SN069    1676\n",
      "SN044    1467\n",
      "SN043    1391\n",
      "SN088    1329\n",
      "SN106    1125\n",
      "SN006     859\n",
      "SN010     825\n",
      "SN016     668\n",
      "SN038     667\n",
      "SN017     514\n",
      "SN073     367\n",
      "SN108     359\n",
      "Total removed =  46109\n",
      "Number of removed nuclei per sample:\n",
      "batch\n",
      "SN070    2056\n",
      "SN109    2027\n",
      "SN065    1346\n",
      "SN082    1176\n",
      "SN210       2\n",
      "SN154       1\n",
      "Total removed =  6608\n"
     ]
    }
   ],
   "source": [
    "import plotting_functions as pf\n",
    "for i in range(1,4):\n",
    "    a = adata_list[i]\n",
    "    low_counts = a.obs['total_counts'] < 1000\n",
    "    adata_list[i] = pf.mask_cells(a, ~low_counts)"
   ]
  },
  {
   "cell_type": "code",
   "execution_count": 6,
   "id": "07e477d6-49fd-4e77-a5ff-0031ec043efb",
   "metadata": {},
   "outputs": [
    {
     "name": "stdout",
     "output_type": "stream",
     "text": [
      "0\n",
      "0\n",
      "0\n",
      "0\n"
     ]
    }
   ],
   "source": [
    "for a in adata_list:\n",
    "    low_counts = a.obs['total_counts'] < 1000\n",
    "    print(sum(low_counts))"
   ]
  },
  {
   "cell_type": "code",
   "execution_count": 7,
   "id": "7088d8af-213f-403f-a36d-cd1ea54404b2",
   "metadata": {},
   "outputs": [],
   "source": [
    "counts_df = pd.DataFrame(columns=['dataset', 'batch', 'cell_count'])\n",
    "row_count = 0\n",
    "for a, dataset in zip(adata_list,['herring', 'sepp_human', 'sepp_mouse', 'sepp_opossum']):\n",
    "    for b in a.obs['batch'].drop_duplicates().to_list():\n",
    "        cell_count = len(a[a.obs['batch']==b].obs_names)\n",
    "        counts_df.loc[row_count] = [dataset, b, cell_count]\n",
    "        row_count+=1"
   ]
  },
  {
   "cell_type": "code",
   "execution_count": 8,
   "id": "46913302-3595-45b6-93af-0b2612793efb",
   "metadata": {},
   "outputs": [
    {
     "data": {
      "text/html": [
       "<div>\n",
       "<style scoped>\n",
       "    .dataframe tbody tr th:only-of-type {\n",
       "        vertical-align: middle;\n",
       "    }\n",
       "\n",
       "    .dataframe tbody tr th {\n",
       "        vertical-align: top;\n",
       "    }\n",
       "\n",
       "    .dataframe thead th {\n",
       "        text-align: right;\n",
       "    }\n",
       "</style>\n",
       "<table border=\"1\" class=\"dataframe\">\n",
       "  <thead>\n",
       "    <tr style=\"text-align: right;\">\n",
       "      <th></th>\n",
       "      <th>dataset</th>\n",
       "      <th>batch</th>\n",
       "      <th>cell_count</th>\n",
       "    </tr>\n",
       "  </thead>\n",
       "  <tbody>\n",
       "    <tr>\n",
       "      <th>0</th>\n",
       "      <td>herring</td>\n",
       "      <td>RL1612_34d_v2</td>\n",
       "      <td>6533</td>\n",
       "    </tr>\n",
       "    <tr>\n",
       "      <th>1</th>\n",
       "      <td>herring</td>\n",
       "      <td>RL1613_2yr_v2</td>\n",
       "      <td>3179</td>\n",
       "    </tr>\n",
       "    <tr>\n",
       "      <th>2</th>\n",
       "      <td>herring</td>\n",
       "      <td>RL1614_8yr_v2</td>\n",
       "      <td>3651</td>\n",
       "    </tr>\n",
       "    <tr>\n",
       "      <th>3</th>\n",
       "      <td>herring</td>\n",
       "      <td>RL1777_2d_v3</td>\n",
       "      <td>9369</td>\n",
       "    </tr>\n",
       "    <tr>\n",
       "      <th>4</th>\n",
       "      <td>herring</td>\n",
       "      <td>RL1786_2yr_v3</td>\n",
       "      <td>1979</td>\n",
       "    </tr>\n",
       "    <tr>\n",
       "      <th>...</th>\n",
       "      <td>...</td>\n",
       "      <td>...</td>\n",
       "      <td>...</td>\n",
       "    </tr>\n",
       "    <tr>\n",
       "      <th>109</th>\n",
       "      <td>sepp_opossum</td>\n",
       "      <td>SN208</td>\n",
       "      <td>2713</td>\n",
       "    </tr>\n",
       "    <tr>\n",
       "      <th>110</th>\n",
       "      <td>sepp_opossum</td>\n",
       "      <td>SN209</td>\n",
       "      <td>8335</td>\n",
       "    </tr>\n",
       "    <tr>\n",
       "      <th>111</th>\n",
       "      <td>sepp_opossum</td>\n",
       "      <td>SN210</td>\n",
       "      <td>2511</td>\n",
       "    </tr>\n",
       "    <tr>\n",
       "      <th>112</th>\n",
       "      <td>sepp_opossum</td>\n",
       "      <td>SN258</td>\n",
       "      <td>4693</td>\n",
       "    </tr>\n",
       "    <tr>\n",
       "      <th>113</th>\n",
       "      <td>sepp_opossum</td>\n",
       "      <td>SN309</td>\n",
       "      <td>8038</td>\n",
       "    </tr>\n",
       "  </tbody>\n",
       "</table>\n",
       "<p>114 rows × 3 columns</p>\n",
       "</div>"
      ],
      "text/plain": [
       "          dataset          batch  cell_count\n",
       "0         herring  RL1612_34d_v2        6533\n",
       "1         herring  RL1613_2yr_v2        3179\n",
       "2         herring  RL1614_8yr_v2        3651\n",
       "3         herring   RL1777_2d_v3        9369\n",
       "4         herring  RL1786_2yr_v3        1979\n",
       "..            ...            ...         ...\n",
       "109  sepp_opossum          SN208        2713\n",
       "110  sepp_opossum          SN209        8335\n",
       "111  sepp_opossum          SN210        2511\n",
       "112  sepp_opossum          SN258        4693\n",
       "113  sepp_opossum          SN309        8038\n",
       "\n",
       "[114 rows x 3 columns]"
      ]
     },
     "execution_count": 8,
     "metadata": {},
     "output_type": "execute_result"
    }
   ],
   "source": [
    "counts_df"
   ]
  },
  {
   "cell_type": "code",
   "execution_count": 9,
   "id": "34538e0b-5c05-4822-b06a-a7fa8209569b",
   "metadata": {},
   "outputs": [
    {
     "data": {
      "image/png": "[encoded data removed]",
      "text/plain": [
       "<Figure size 2500x1000 with 1 Axes>"
      ]
     },
     "metadata": {},
     "output_type": "display_data"
    }
   ],
   "source": [
    "with rc_context({'figure.figsize': (25,10)}):\n",
    "    ax = sns.scatterplot(counts_df, x='batch', y='cell_count', hue='dataset', style='dataset')\n",
    "    ax.tick_params(axis='x', rotation=90)"
   ]
  },
  {
   "cell_type": "code",
   "execution_count": 10,
   "id": "26d5e8c0-a4f7-41f1-8943-db3dd6aa16df",
   "metadata": {},
   "outputs": [
    {
     "data": {
      "text/html": [
       "<div>\n",
       "<style scoped>\n",
       "    .dataframe tbody tr th:only-of-type {\n",
       "        vertical-align: middle;\n",
       "    }\n",
       "\n",
       "    .dataframe tbody tr th {\n",
       "        vertical-align: top;\n",
       "    }\n",
       "\n",
       "    .dataframe thead th {\n",
       "        text-align: right;\n",
       "    }\n",
       "</style>\n",
       "<table border=\"1\" class=\"dataframe\">\n",
       "  <thead>\n",
       "    <tr style=\"text-align: right;\">\n",
       "      <th></th>\n",
       "      <th>dataset</th>\n",
       "      <th>batch</th>\n",
       "      <th>cell_count</th>\n",
       "    </tr>\n",
       "  </thead>\n",
       "  <tbody>\n",
       "    <tr>\n",
       "      <th>87</th>\n",
       "      <td>sepp_mouse</td>\n",
       "      <td>SN108</td>\n",
       "      <td>74</td>\n",
       "    </tr>\n",
       "    <tr>\n",
       "      <th>81</th>\n",
       "      <td>sepp_mouse</td>\n",
       "      <td>SN088</td>\n",
       "      <td>180</td>\n",
       "    </tr>\n",
       "    <tr>\n",
       "      <th>74</th>\n",
       "      <td>sepp_mouse</td>\n",
       "      <td>SN038</td>\n",
       "      <td>187</td>\n",
       "    </tr>\n",
       "    <tr>\n",
       "      <th>77</th>\n",
       "      <td>sepp_mouse</td>\n",
       "      <td>SN044</td>\n",
       "      <td>190</td>\n",
       "    </tr>\n",
       "    <tr>\n",
       "      <th>76</th>\n",
       "      <td>sepp_mouse</td>\n",
       "      <td>SN043</td>\n",
       "      <td>230</td>\n",
       "    </tr>\n",
       "    <tr>\n",
       "      <th>54</th>\n",
       "      <td>sepp_human</td>\n",
       "      <td>SN170</td>\n",
       "      <td>239</td>\n",
       "    </tr>\n",
       "    <tr>\n",
       "      <th>96</th>\n",
       "      <td>sepp_opossum</td>\n",
       "      <td>SN070</td>\n",
       "      <td>471</td>\n",
       "    </tr>\n",
       "    <tr>\n",
       "      <th>78</th>\n",
       "      <td>sepp_mouse</td>\n",
       "      <td>SN063</td>\n",
       "      <td>485</td>\n",
       "    </tr>\n",
       "    <tr>\n",
       "      <th>97</th>\n",
       "      <td>sepp_opossum</td>\n",
       "      <td>SN082</td>\n",
       "      <td>557</td>\n",
       "    </tr>\n",
       "    <tr>\n",
       "      <th>82</th>\n",
       "      <td>sepp_mouse</td>\n",
       "      <td>SN099</td>\n",
       "      <td>578</td>\n",
       "    </tr>\n",
       "  </tbody>\n",
       "</table>\n",
       "</div>"
      ],
      "text/plain": [
       "         dataset  batch  cell_count\n",
       "87    sepp_mouse  SN108          74\n",
       "81    sepp_mouse  SN088         180\n",
       "74    sepp_mouse  SN038         187\n",
       "77    sepp_mouse  SN044         190\n",
       "76    sepp_mouse  SN043         230\n",
       "54    sepp_human  SN170         239\n",
       "96  sepp_opossum  SN070         471\n",
       "78    sepp_mouse  SN063         485\n",
       "97  sepp_opossum  SN082         557\n",
       "82    sepp_mouse  SN099         578"
      ]
     },
     "execution_count": 10,
     "metadata": {},
     "output_type": "execute_result"
    }
   ],
   "source": [
    "counts_df.sort_values(by='cell_count', ascending=True)[:10]"
   ]
  },
  {
   "cell_type": "markdown",
   "id": "d7dad395-8d77-4330-8f54-be7919acbeb3",
   "metadata": {},
   "source": [
    "Some batches now have very low passing cell counts, especially in the mouse dataset. Proceed with these and note lower counts in conclusions, remove, or adjust UMI count cutoff? Should be fine to keep them since we're using statistical methods, may just be more difficult to obtain statistically significant outcomes in e.g. differential gene expression analysis."
   ]
  },
  {
   "cell_type": "code",
   "execution_count": 11,
   "id": "921a470a-7659-4130-a935-28ea73fbc6fa",
   "metadata": {},
   "outputs": [],
   "source": [
    "# Downsample counts in Sepp datasets to 1000 counts per cell to match Herring data.\n",
    "# Keep downsampled counts in separate layer\n",
    "for i in range(1,4):\n",
    "    a = adata_list[i]\n",
    "    a_downsampled = sc.pp.downsample_counts(a, counts_per_cell=1000, copy=True)\n",
    "    a.layers['downsampled_cts'] = a_downsampled.X\n",
    "    # Cast to bool, then back to int to get binary values\n",
    "    a.layers['binarized_cts'] = a.layers['downsampled_cts'].astype(bool).astype(float)\n",
    "    # Originally used np.int8, however the PCA step later requires float values\n",
    "    adata_list[i] = a"
   ]
  },
  {
   "cell_type": "code",
   "execution_count": 12,
   "id": "45a61188-5ef4-4362-8013-40016c39cf17",
   "metadata": {
    "scrolled": true
   },
   "outputs": [
    {
     "name": "stdout",
     "output_type": "stream",
     "text": [
      "<Compressed Sparse Column sparse matrix of dtype 'float32'\n",
      "\twith 847 stored elements and shape (1, 27260)>\n",
      "  Coords\tValues\n",
      "  (0, 74)\t1.0\n",
      "  (0, 90)\t4.0\n",
      "  (0, 237)\t1.0\n",
      "  (0, 250)\t1.0\n",
      "  (0, 256)\t1.0\n",
      "  (0, 268)\t1.0\n",
      "  (0, 278)\t1.0\n",
      "  (0, 301)\t1.0\n",
      "  (0, 306)\t1.0\n",
      "  (0, 318)\t1.0\n",
      "  (0, 361)\t1.0\n",
      "  (0, 372)\t1.0\n",
      "  (0, 375)\t1.0\n",
      "  (0, 420)\t1.0\n",
      "  (0, 423)\t1.0\n",
      "  (0, 435)\t1.0\n",
      "  (0, 472)\t1.0\n",
      "  (0, 498)\t1.0\n",
      "  (0, 501)\t1.0\n",
      "  (0, 506)\t1.0\n",
      "  (0, 544)\t1.0\n",
      "  (0, 576)\t1.0\n",
      "  (0, 599)\t1.0\n",
      "  (0, 611)\t1.0\n",
      "  (0, 614)\t1.0\n",
      "  :\t:\n",
      "  (0, 19371)\t1.0\n",
      "  (0, 19421)\t1.0\n",
      "  (0, 19461)\t1.0\n",
      "  (0, 19498)\t1.0\n",
      "  (0, 19502)\t1.0\n",
      "  (0, 19514)\t1.0\n",
      "  (0, 19527)\t1.0\n",
      "  (0, 19569)\t1.0\n",
      "  (0, 19611)\t1.0\n",
      "  (0, 19619)\t1.0\n",
      "  (0, 19647)\t1.0\n",
      "  (0, 19667)\t1.0\n",
      "  (0, 19668)\t1.0\n",
      "  (0, 19753)\t1.0\n",
      "  (0, 19775)\t2.0\n",
      "  (0, 19793)\t2.0\n",
      "  (0, 19807)\t1.0\n",
      "  (0, 19832)\t1.0\n",
      "  (0, 19835)\t1.0\n",
      "  (0, 19872)\t1.0\n",
      "  (0, 19906)\t1.0\n",
      "  (0, 19916)\t1.0\n",
      "  (0, 19938)\t1.0\n",
      "  (0, 19969)\t1.0\n",
      "  (0, 19977)\t1.0\n"
     ]
    }
   ],
   "source": [
    "# Check that we now have float values in downsampled layer\n",
    "print(adata_list[1].layers['downsampled_cts'][0])"
   ]
  },
  {
   "cell_type": "code",
   "execution_count": 13,
   "id": "d631e40d-8977-4b81-824a-39f8c75c53cd",
   "metadata": {},
   "outputs": [
    {
     "name": "stdout",
     "output_type": "stream",
     "text": [
      "[0. 1.]\n"
     ]
    }
   ],
   "source": [
    "# Check that we now have binary values in binarized layer\n",
    "print(np.unique(adata_list[1].layers['binarized_cts'][0].toarray()))"
   ]
  },
  {
   "cell_type": "code",
   "execution_count": 14,
   "id": "115a1d1a-bcf8-474e-8792-a3626233a0db",
   "metadata": {},
   "outputs": [],
   "source": [
    "# Normalize downsampled counts using log1p transformation and save to another layer, ds_norm_cts\n",
    "for i in range(1,4):\n",
    "    a = adata_list[i]\n",
    "    a_normalized = sc.pp.log1p(a, layer='downsampled_cts', copy=True)\n",
    "    a.layers['ds_norm_cts'] = a_normalized.layers['downsampled_cts']\n",
    "    adata_list[i] = a"
   ]
  },
  {
   "cell_type": "code",
   "execution_count": 15,
   "id": "de3884a1-74db-479f-872e-6d4bf2d2598d",
   "metadata": {},
   "outputs": [
    {
     "name": "stdout",
     "output_type": "stream",
     "text": [
      "<COOrdinate sparse matrix of dtype 'float32'\n",
      "\twith 5 stored elements and shape (5, 1)>\n",
      "  Coords\tValues\n",
      "  (0, 0)\t9.0\n",
      "  (1, 0)\t13.0\n",
      "  (2, 0)\t8.0\n",
      "  (3, 0)\t7.0\n",
      "  (4, 0)\t5.0\n",
      "<COOrdinate sparse matrix of dtype 'float32'\n",
      "\twith 5 stored elements and shape (5, 1)>\n",
      "  Coords\tValues\n",
      "  (0, 0)\t2.3025851249694824\n",
      "  (1, 0)\t2.6390573978424072\n",
      "  (2, 0)\t2.1972246170043945\n",
      "  (3, 0)\t2.079441547393799\n",
      "  (4, 0)\t1.7917594909667969\n"
     ]
    }
   ],
   "source": [
    "# Check normalization worked as intended\n",
    "print(adata_list[1].layers['downsampled_cts'][0:5].max(1))\n",
    "print(adata_list[1].layers['ds_norm_cts'][0:5].max(1))"
   ]
  },
  {
   "cell_type": "code",
   "execution_count": 16,
   "id": "c892cacd-64d5-4d2d-9016-1e05e3a179c0",
   "metadata": {},
   "outputs": [],
   "source": [
    "adata_list[1].write_h5ad('/group/ll005/cmcphan/sepp_data/sepp_human_normal.h5ad')\n",
    "adata_list[2].write_h5ad('/group/ll005/cmcphan/sepp_data/sepp_mouse_normal.h5ad')\n",
    "adata_list[3].write_h5ad('/group/ll005/cmcphan/sepp_data/sepp_opossum_normal.h5ad')"
   ]
  },
  {
   "cell_type": "code",
   "execution_count": null,
   "id": "e4b77e12-cf64-4441-b76a-e1cebc637cc9",
   "metadata": {},
   "outputs": [],
   "source": []
  }
 ],
 "metadata": {
  "kernelspec": {
   "display_name": "Python 3 (ipykernel)",
   "language": "python",
   "name": "python3"
  },
  "language_info": {
   "codemirror_mode": {
    "name": "ipython",
    "version": 3
   },
   "file_extension": ".py",
   "mimetype": "text/x-python",
   "name": "python",
   "nbconvert_exporter": "python",
   "pygments_lexer": "ipython3",
   "version": "3.12.6"
  }
 },
 "nbformat": 4,
 "nbformat_minor": 5
}
